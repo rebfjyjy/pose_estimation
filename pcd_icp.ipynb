{
 "cells": [
  {
   "cell_type": "code",
   "execution_count": 1,
   "metadata": {},
   "outputs": [],
   "source": [
    "import open3d as o3d\n",
    "import numpy as np\n",
    "import copy\n",
    "import os\n",
    "import sys\n",
    "\n",
    "sys.path.append('..')\n",
    "# import open3d_tutorial as o3dut\n",
    "\n"
   ]
  },
  {
   "cell_type": "code",
   "execution_count": 14,
   "metadata": {},
   "outputs": [],
   "source": [
    "def draw_registration_result(source, target, transformation):\n",
    "    source_temp = copy.deepcopy(source)\n",
    "    target_temp = copy.deepcopy(target)\n",
    "    \n",
    "    # source_temp.paint_uniform_color([1,0.706,0])\n",
    "    # target_temp.paint_uniform_color([0, 0.651, 0.929])\n",
    "    source_temp.transform(transformation)\n",
    "    # o3d.visualization.draw_geometries([source_temp])\n",
    "    o3d.visualization.draw_geometries([source_temp, target_temp],\n",
    "                                    #   zoom=0.4459,\n",
    "                                    #   front=[0.9288, -0.2951, -0.2242],\n",
    "                                    #   lookat=[1.6784, 2.0612, 1.4451],\n",
    "                                    #   up=[-0.3402, -0.9189, -0.1996]\n",
    "                                    )"
   ]
  },
  {
   "cell_type": "code",
   "execution_count": 15,
   "metadata": {},
   "outputs": [
    {
     "name": "stdout",
     "output_type": "stream",
     "text": [
      "\u001b[1;33m[Open3D WARNING] GLFW Error: Cocoa: Failed to find service port for display\u001b[0;m\n"
     ]
    }
   ],
   "source": [
    "source = o3d.io.read_point_cloud(\"./4_30_Data/point_cloud/left_1.ply\")\n",
    "target = o3d.io.read_point_cloud(\"./4_30_Data/point_cloud/middle_1.ply\")\n",
    "threshold = 0.01\n",
    "trans_init = np.asarray([[1.0, 0.011, 0.0, 0.0],\n",
    "                        [-0.139, 0.967, -0.215, 0.0],\n",
    "                        [0.487, 0.255, 0.835, 0.0],\n",
    "                        [0.0, 0.0, 0.0, 1.0]])\n",
    "draw_registration_result(source, target, trans_init)"
   ]
  },
  {
   "cell_type": "code",
   "execution_count": 4,
   "metadata": {},
   "outputs": [
    {
     "name": "stdout",
     "output_type": "stream",
     "text": [
      "initial aligment\n",
      "RegistrationResult with fitness=1.000000e+00, inlier_rmse=5.881652e-05, and correspondence_set size of 307200\n",
      "Access transformation to get result.\n"
     ]
    }
   ],
   "source": [
    "print(\"initial aligment\")\n",
    "eval = o3d.pipelines.registration.evaluate_registration(source, target, threshold, trans_init)\n",
    "print(eval)"
   ]
  },
  {
   "cell_type": "code",
   "execution_count": null,
   "metadata": {},
   "outputs": [],
   "source": [
    "print(\"apply point-to-point ICP\")\n",
    "reg_p2p = o3d.pipelines.registration.registration_icp(source, target, threshold, trans_init, \n",
    "                                                      o3d.pipelines.registration.TransformationEstimationPointToPoint())\n",
    "print(reg_p2p)\n",
    "print(\"transformation is: \")\n",
    "transformation = reg_p2p.transformation\n",
    "print(transformation)\n",
    "draw_registration_result(source, target, transformation)"
   ]
  },
  {
   "cell_type": "code",
   "execution_count": null,
   "metadata": {},
   "outputs": [
    {
     "ename": "",
     "evalue": "",
     "output_type": "error",
     "traceback": [
      "\u001b[1;31mThe Kernel crashed while executing code in the current cell or a previous cell. \n",
      "\u001b[1;31mPlease review the code in the cell(s) to identify a possible cause of the failure. \n",
      "\u001b[1;31mClick <a href='https://aka.ms/vscodeJupyterKernelCrash'>here</a> for more info. \n",
      "\u001b[1;31mView Jupyter <a href='command:jupyter.viewOutput'>log</a> for further details."
     ]
    }
   ],
   "source": [
    "print(\"apply point-to-point ICP\")\n",
    "\n",
    "reg_p2p = o3d.pipelines.registration.registration_icp(source, target, threshold, trans_init, \n",
    "                                                      o3d.pipelines.registration.TransformationEstimationPointToPoint(),\n",
    "                                                      o3d.pipelines.registration.ICPConvergenceCriteria(max_iteration=2000))\n",
    "print(reg_p2p)\n",
    "print(\"transformation is: \")\n",
    "transformation = reg_p2p.transformation\n",
    "print(transformation)\n",
    "draw_registration_result(source, target, transformation)"
   ]
  },
  {
   "cell_type": "code",
   "execution_count": 16,
   "metadata": {},
   "outputs": [
    {
     "name": "stdout",
     "output_type": "stream",
     "text": [
      "1. Load two point clouds and show initial pose\n",
      "\u001b[1;33m[Open3D WARNING] GLFW Error: Cocoa: Failed to find service port for display\u001b[0;m\n"
     ]
    }
   ],
   "source": [
    "print(\"1. Load two point clouds and show initial pose\")\n",
    "# demo_colored_icp_pcds = o3d.data.DemoColoredICPPointClouds()\n",
    "# source = o3d.io.read_point_cloud(demo_colored_icp_pcds.paths[0])\n",
    "# target = o3d.io.read_point_cloud(demo_colored_icp_pcds.paths[1])\n",
    "\n",
    "# draw initial alignment\n",
    "# current_transformation = np.identity(4)\n",
    "draw_registration_result(source, target, trans_init)"
   ]
  },
  {
   "cell_type": "code",
   "execution_count": 18,
   "metadata": {},
   "outputs": [
    {
     "name": "stdout",
     "output_type": "stream",
     "text": [
      "2. Point-to-plane ICP registration is applied on original point\n",
      "   clouds to refine the alignment. Distance threshold 0.02.\n",
      "RegistrationResult with fitness=1.000000e+00, inlier_rmse=3.462883e-05, and correspondence_set size of 307200\n",
      "Access transformation to get result.\n",
      "\u001b[1;33m[Open3D WARNING] GLFW Error: Cocoa: Failed to find service port for display\u001b[0;m\n"
     ]
    }
   ],
   "source": [
    "# point to plane ICP\n",
    "# current_transformation = np.identity(4)\n",
    "print(\"2. Point-to-plane ICP registration is applied on original point\")\n",
    "print(\"   clouds to refine the alignment. Distance threshold 0.02.\")\n",
    "# Estimate normals for the source point cloud\n",
    "source.estimate_normals(search_param=o3d.geometry.KDTreeSearchParamHybrid(radius=0.1, max_nn=30))\n",
    "\n",
    "# Estimate normals for the target point cloud\n",
    "target.estimate_normals(search_param=o3d.geometry.KDTreeSearchParamHybrid(radius=0.1, max_nn=30))\n",
    "\n",
    "result_icp = o3d.pipelines.registration.registration_icp(\n",
    "    source, target, 0.02, trans_init,\n",
    "    o3d.pipelines.registration.TransformationEstimationPointToPlane())\n",
    "print(result_icp)\n",
    "draw_registration_result(source, target,\n",
    "                                        result_icp.transformation)"
   ]
  },
  {
   "cell_type": "code",
   "execution_count": 23,
   "metadata": {},
   "outputs": [
    {
     "name": "stdout",
     "output_type": "stream",
     "text": [
      "3. Colored point cloud registration\n",
      "[50, 0.04, 0]\n",
      "3-1. Downsample with a voxel size 0.04\n",
      "3-2. Estimate normal.\n",
      "3-3. Applying colored point cloud registration\n",
      "RegistrationResult with fitness=1.000000e+00, inlier_rmse=3.298287e-04, and correspondence_set size of 1\n",
      "Access transformation to get result. [[-1.09453699e+00 -7.96696405e-02 -2.26206333e-01 -3.80898697e-04]\n",
      " [-1.39000000e-01  9.67000000e-01 -2.15000000e-01  0.00000000e+00]\n",
      " [-1.97883269e-01 -2.42484532e-01 -8.03775898e-01 -4.25880397e-04]\n",
      " [ 0.00000000e+00  0.00000000e+00  0.00000000e+00  1.00000000e+00]]\n",
      "\u001b[1;33m[Open3D WARNING] GLFW Error: Cocoa: Failed to find service port for display\u001b[0;m\n"
     ]
    }
   ],
   "source": [
    "# colored pointcloud registration\n",
    "# This is implementation of following paper\n",
    "# J. Park, Q.-Y. Zhou, V. Koltun,\n",
    "# Colored Point Cloud Registration Revisited, ICCV 2017\n",
    "voxel_radius = [0.04, 0.02, 0.01]\n",
    "max_iter = [50, 30, 14]\n",
    "current_transformation = trans_init\n",
    "print(\"3. Colored point cloud registration\")\n",
    "for scale in range(1):\n",
    "    iter = max_iter[scale]\n",
    "    radius = voxel_radius[scale]\n",
    "    print([iter, radius, scale])\n",
    "\n",
    "    print(\"3-1. Downsample with a voxel size %.2f\" % radius)\n",
    "    source_down = source.voxel_down_sample(radius)\n",
    "    target_down = target.voxel_down_sample(radius)\n",
    "\n",
    "    print(\"3-2. Estimate normal.\")\n",
    "    source_down.estimate_normals(\n",
    "        o3d.geometry.KDTreeSearchParamHybrid(radius=radius * 2, max_nn=30))\n",
    "    target_down.estimate_normals(\n",
    "        o3d.geometry.KDTreeSearchParamHybrid(radius=radius * 2, max_nn=30))\n",
    "    \n",
    "    mls_radius = 0.05\n",
    "    upsampled_source = source_down.voxel_down_sample_and_trace(mls_radius, source.get_min_bound(), source.get_max_bound())[0]\n",
    "    upsampled_target = source_down.voxel_down_sample_and_trace(mls_radius, target.get_min_bound(), target.get_max_bound())[0]\n",
    "\n",
    "\n",
    "    print(\"3-3. Applying colored point cloud registration\")\n",
    "    result_icp = o3d.pipelines.registration.registration_colored_icp(\n",
    "        upsampled_source, upsampled_target, radius, current_transformation,\n",
    "        o3d.pipelines.registration.TransformationEstimationForColoredICP(),\n",
    "        o3d.pipelines.registration.ICPConvergenceCriteria(relative_fitness=1e-6,\n",
    "                                                          relative_rmse=1e-6,\n",
    "                                                          max_iteration=iter))\n",
    "    current_transformation = result_icp.transformation\n",
    "    print(result_icp, current_transformation)\n",
    "draw_registration_result(source, target,\n",
    "                                        result_icp.transformation)"
   ]
  },
  {
   "cell_type": "code",
   "execution_count": null,
   "metadata": {},
   "outputs": [],
   "source": [
    "[-1.39000000e-01  9.67000000e-01 -2.15000000e-01  0.00000000e+00]\n",
    " [ 5.69254327e-01  2.55023035e-01  8.32050703e-01 -9.68557265e-05]\n",
    " [ 0.00000000e+00  0.00000000e+00  0.00000000e+00  1.00000000e+00]]"
   ]
  }
 ],
 "metadata": {
  "kernelspec": {
   "display_name": "Emprise",
   "language": "python",
   "name": "python3"
  },
  "language_info": {
   "codemirror_mode": {
    "name": "ipython",
    "version": 3
   },
   "file_extension": ".py",
   "mimetype": "text/x-python",
   "name": "python",
   "nbconvert_exporter": "python",
   "pygments_lexer": "ipython3",
   "version": "3.11.8"
  }
 },
 "nbformat": 4,
 "nbformat_minor": 2
}
