{
 "cells": [
  {
   "cell_type": "code",
   "execution_count": null,
   "metadata": {},
   "outputs": [],
   "source": [
    "import open3d as o3d\n",
    "import numpy as np\n",
    "import copy\n",
    "import os\n",
    "import sys\n",
    "\n",
    "sys.path.append('..')\n",
    "# import open3d_tutorial as o3dut\n",
    "\n"
   ]
  },
  {
   "cell_type": "code",
   "execution_count": null,
   "metadata": {},
   "outputs": [],
   "source": [
    "def draw_registration_result(source, target, transformation):\n",
    "    source_temp = copy.deepcopy(source)\n",
    "    target_temp = copy.deepcopy(target)\n",
    "    \n",
    "    # source_temp.paint_uniform_color([1,0.706,0])\n",
    "    # target_temp.paint_uniform_color([0, 0.651, 0.929])\n",
    "    source_temp.transform(transformation)\n",
    "    # o3d.visualization.draw_geometries([source_temp])\n",
    "    o3d.visualization.draw_geometries([source_temp, target_temp],\n",
    "                                    #   zoom=0.4459,\n",
    "                                    #   front=[0.9288, -0.2951, -0.2242],\n",
    "                                    #   lookat=[1.6784, 2.0612, 1.4451],\n",
    "                                    #   up=[-0.3402, -0.9189, -0.1996]\n",
    "                                    )"
   ]
  },
  {
   "cell_type": "code",
   "execution_count": null,
   "metadata": {},
   "outputs": [],
   "source": [
    "source = o3d.io.read_point_cloud(\"./4_30_Data/point_cloud/left_1.ply\")\n",
    "target = o3d.io.read_point_cloud(\"./4_30_Data/point_cloud/middle_1.ply\")\n",
    "threshold = 0.01\n",
    "trans_init = np.asarray([[1.0, 0.011, 0.0, 0.0],\n",
    "                        [-0.139, 0.967, -0.215, 0.0],\n",
    "                        [0.487, 0.255, 0.835, 0.0],\n",
    "                        [0.0, 0.0, 0.0, 1.0]])\n",
    "draw_registration_result(source, target, trans_init)"
   ]
  },
  {
   "cell_type": "code",
   "execution_count": null,
   "metadata": {},
   "outputs": [],
   "source": [
    "print(\"initial aligment\")\n",
    "eval = o3d.pipelines.registration.evaluate_registration(source, target, threshold, trans_init)\n",
    "print(eval)"
   ]
  },
  {
   "cell_type": "code",
   "execution_count": null,
   "metadata": {},
   "outputs": [],
   "source": [
    "print(\"apply point-to-point ICP\")\n",
    "reg_p2p = o3d.pipelines.registration.registration_icp(source, target, threshold, trans_init, \n",
    "                                                      o3d.pipelines.registration.TransformationEstimationPointToPoint())\n",
    "print(reg_p2p)\n",
    "print(\"transformation is: \")\n",
    "transformation = reg_p2p.transformation\n",
    "print(transformation)\n",
    "draw_registration_result(source, target, transformation)"
   ]
  },
  {
   "cell_type": "code",
   "execution_count": null,
   "metadata": {},
   "outputs": [
    {
     "ename": "",
     "evalue": "",
     "output_type": "error",
     "traceback": [
      "\u001b[1;31mThe Kernel crashed while executing code in the current cell or a previous cell. \n",
      "\u001b[1;31mPlease review the code in the cell(s) to identify a possible cause of the failure. \n",
      "\u001b[1;31mClick <a href='https://aka.ms/vscodeJupyterKernelCrash'>here</a> for more info. \n",
      "\u001b[1;31mView Jupyter <a href='command:jupyter.viewOutput'>log</a> for further details."
     ]
    }
   ],
   "source": [
    "print(\"apply point-to-point ICP\")\n",
    "\n",
    "reg_p2p = o3d.pipelines.registration.registration_icp(source, target, threshold, trans_init, \n",
    "                                                      o3d.pipelines.registration.TransformationEstimationPointToPoint(),\n",
    "                                                      o3d.pipelines.registration.ICPConvergenceCriteria(max_iteration=2000))\n",
    "print(reg_p2p)\n",
    "print(\"transformation is: \")\n",
    "transformation = reg_p2p.transformation\n",
    "print(transformation)\n",
    "draw_registration_result(source, target, transformation)"
   ]
  },
  {
   "cell_type": "code",
   "execution_count": null,
   "metadata": {},
   "outputs": [],
   "source": []
  }
 ],
 "metadata": {
  "kernelspec": {
   "display_name": "Emprise",
   "language": "python",
   "name": "python3"
  },
  "language_info": {
   "codemirror_mode": {
    "name": "ipython",
    "version": 3
   },
   "file_extension": ".py",
   "mimetype": "text/x-python",
   "name": "python",
   "nbconvert_exporter": "python",
   "pygments_lexer": "ipython3",
   "version": "3.11.8"
  }
 },
 "nbformat": 4,
 "nbformat_minor": 2
}
